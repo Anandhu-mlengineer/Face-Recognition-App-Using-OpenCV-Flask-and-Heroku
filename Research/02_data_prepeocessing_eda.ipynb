{
 "cells": [
  {
   "cell_type": "code",
   "execution_count": 108,
   "metadata": {},
   "outputs": [],
   "source": [
    "import pickle"
   ]
  },
  {
   "cell_type": "code",
   "execution_count": 30,
   "metadata": {},
   "outputs": [
    {
     "name": "stdout",
     "output_type": "stream",
     "text": [
      "Requirement already satisfied: seaborn in f:\\face-recognition-app-using-opencv-flask-and-heroku\\venv\\lib\\site-packages (0.13.2)\n",
      "Requirement already satisfied: numpy!=1.24.0,>=1.20 in f:\\face-recognition-app-using-opencv-flask-and-heroku\\venv\\lib\\site-packages (from seaborn) (1.24.4)\n",
      "Requirement already satisfied: pandas>=1.2 in f:\\face-recognition-app-using-opencv-flask-and-heroku\\venv\\lib\\site-packages (from seaborn) (2.0.3)\n",
      "Requirement already satisfied: matplotlib!=3.6.1,>=3.4 in f:\\face-recognition-app-using-opencv-flask-and-heroku\\venv\\lib\\site-packages (from seaborn) (3.7.5)\n",
      "Requirement already satisfied: contourpy>=1.0.1 in f:\\face-recognition-app-using-opencv-flask-and-heroku\\venv\\lib\\site-packages (from matplotlib!=3.6.1,>=3.4->seaborn) (1.1.1)\n",
      "Requirement already satisfied: cycler>=0.10 in f:\\face-recognition-app-using-opencv-flask-and-heroku\\venv\\lib\\site-packages (from matplotlib!=3.6.1,>=3.4->seaborn) (0.12.1)\n",
      "Requirement already satisfied: fonttools>=4.22.0 in f:\\face-recognition-app-using-opencv-flask-and-heroku\\venv\\lib\\site-packages (from matplotlib!=3.6.1,>=3.4->seaborn) (4.55.3)\n",
      "Requirement already satisfied: kiwisolver>=1.0.1 in f:\\face-recognition-app-using-opencv-flask-and-heroku\\venv\\lib\\site-packages (from matplotlib!=3.6.1,>=3.4->seaborn) (1.4.7)\n",
      "Requirement already satisfied: packaging>=20.0 in f:\\face-recognition-app-using-opencv-flask-and-heroku\\venv\\lib\\site-packages (from matplotlib!=3.6.1,>=3.4->seaborn) (24.2)\n",
      "Requirement already satisfied: pillow>=6.2.0 in f:\\face-recognition-app-using-opencv-flask-and-heroku\\venv\\lib\\site-packages (from matplotlib!=3.6.1,>=3.4->seaborn) (10.4.0)\n",
      "Requirement already satisfied: pyparsing>=2.3.1 in f:\\face-recognition-app-using-opencv-flask-and-heroku\\venv\\lib\\site-packages (from matplotlib!=3.6.1,>=3.4->seaborn) (3.1.4)\n",
      "Requirement already satisfied: python-dateutil>=2.7 in f:\\face-recognition-app-using-opencv-flask-and-heroku\\venv\\lib\\site-packages (from matplotlib!=3.6.1,>=3.4->seaborn) (2.9.0)\n",
      "Requirement already satisfied: importlib-resources>=3.2.0 in f:\\face-recognition-app-using-opencv-flask-and-heroku\\venv\\lib\\site-packages (from matplotlib!=3.6.1,>=3.4->seaborn) (6.4.5)\n",
      "Requirement already satisfied: pytz>=2020.1 in f:\\face-recognition-app-using-opencv-flask-and-heroku\\venv\\lib\\site-packages (from pandas>=1.2->seaborn) (2024.2)\n",
      "Requirement already satisfied: tzdata>=2022.1 in f:\\face-recognition-app-using-opencv-flask-and-heroku\\venv\\lib\\site-packages (from pandas>=1.2->seaborn) (2024.2)\n",
      "Requirement already satisfied: zipp>=3.1.0 in f:\\face-recognition-app-using-opencv-flask-and-heroku\\venv\\lib\\site-packages (from importlib-resources>=3.2.0->matplotlib!=3.6.1,>=3.4->seaborn) (3.21.0)\n",
      "Requirement already satisfied: six>=1.5 in c:\\users\\asus\\appdata\\roaming\\python\\python38\\site-packages (from python-dateutil>=2.7->matplotlib!=3.6.1,>=3.4->seaborn) (1.15.0)\n",
      "Requirement already satisfied: pandas in f:\\face-recognition-app-using-opencv-flask-and-heroku\\venv\\lib\\site-packages (2.0.3)\n",
      "Requirement already satisfied: python-dateutil>=2.8.2 in f:\\face-recognition-app-using-opencv-flask-and-heroku\\venv\\lib\\site-packages (from pandas) (2.9.0)\n",
      "Requirement already satisfied: pytz>=2020.1 in f:\\face-recognition-app-using-opencv-flask-and-heroku\\venv\\lib\\site-packages (from pandas) (2024.2)\n",
      "Requirement already satisfied: tzdata>=2022.1 in f:\\face-recognition-app-using-opencv-flask-and-heroku\\venv\\lib\\site-packages (from pandas) (2024.2)\n",
      "Requirement already satisfied: numpy>=1.20.3 in f:\\face-recognition-app-using-opencv-flask-and-heroku\\venv\\lib\\site-packages (from pandas) (1.24.4)\n",
      "Requirement already satisfied: six>=1.5 in c:\\users\\asus\\appdata\\roaming\\python\\python38\\site-packages (from python-dateutil>=2.8.2->pandas) (1.15.0)\n"
     ]
    }
   ],
   "source": [
    "!pip install seaborn\n",
    "!pip install pandas \n"
   ]
  },
  {
   "cell_type": "code",
   "execution_count": 31,
   "metadata": {},
   "outputs": [],
   "source": [
    "import numpy as numpy\n",
    "import pandas as pd\n",
    "import cv2\n",
    "from glob import glob\n",
    "import seaborn as sns\n",
    "import matplotlib.pyplot as plt\n"
   ]
  },
  {
   "cell_type": "code",
   "execution_count": 32,
   "metadata": {},
   "outputs": [],
   "source": [
    "female_croped_image_path = glob('./croped_data/female/*.jpg')\n",
    "male_croped_image_path  = glob('./croped_data/male/*.jpg')"
   ]
  },
  {
   "cell_type": "code",
   "execution_count": 33,
   "metadata": {},
   "outputs": [],
   "source": [
    "\n",
    "#female_croped_image_path \n",
    "#male_croped_image_path  \n"
   ]
  },
  {
   "cell_type": "code",
   "execution_count": 34,
   "metadata": {},
   "outputs": [
    {
     "data": {
      "text/html": [
       "<div>\n",
       "<style scoped>\n",
       "    .dataframe tbody tr th:only-of-type {\n",
       "        vertical-align: middle;\n",
       "    }\n",
       "\n",
       "    .dataframe tbody tr th {\n",
       "        vertical-align: top;\n",
       "    }\n",
       "\n",
       "    .dataframe thead th {\n",
       "        text-align: right;\n",
       "    }\n",
       "</style>\n",
       "<table border=\"1\" class=\"dataframe\">\n",
       "  <thead>\n",
       "    <tr style=\"text-align: right;\">\n",
       "      <th></th>\n",
       "      <th>file_path</th>\n",
       "      <th>gender</th>\n",
       "    </tr>\n",
       "  </thead>\n",
       "  <tbody>\n",
       "    <tr>\n",
       "      <th>2311</th>\n",
       "      <td>./croped_data/male\\male994.jpg</td>\n",
       "      <td>male</td>\n",
       "    </tr>\n",
       "    <tr>\n",
       "      <th>2312</th>\n",
       "      <td>./croped_data/male\\male996.jpg</td>\n",
       "      <td>male</td>\n",
       "    </tr>\n",
       "    <tr>\n",
       "      <th>2313</th>\n",
       "      <td>./croped_data/male\\male997.jpg</td>\n",
       "      <td>male</td>\n",
       "    </tr>\n",
       "    <tr>\n",
       "      <th>2314</th>\n",
       "      <td>./croped_data/male\\male998.jpg</td>\n",
       "      <td>male</td>\n",
       "    </tr>\n",
       "    <tr>\n",
       "      <th>2315</th>\n",
       "      <td>./croped_data/male\\male999.jpg</td>\n",
       "      <td>male</td>\n",
       "    </tr>\n",
       "  </tbody>\n",
       "</table>\n",
       "</div>"
      ],
      "text/plain": [
       "                           file_path gender\n",
       "2311  ./croped_data/male\\male994.jpg   male\n",
       "2312  ./croped_data/male\\male996.jpg   male\n",
       "2313  ./croped_data/male\\male997.jpg   male\n",
       "2314  ./croped_data/male\\male998.jpg   male\n",
       "2315  ./croped_data/male\\male999.jpg   male"
      ]
     },
     "execution_count": 34,
     "metadata": {},
     "output_type": "execute_result"
    }
   ],
   "source": [
    "#Create a dataframe with male and female corped image file paths\n",
    "df_female = pd.DataFrame(female_croped_image_path,columns=['file_path'])\n",
    "df_female['gender'] = 'female'\n",
    "df_male = pd.DataFrame(male_croped_image_path,columns=['file_path'])\n",
    "df_male['gender'] = 'male'\n",
    "\n",
    "df = pd.concat((df_female,df_male),axis=0)\n",
    "\n",
    "df.head()\n",
    "df.tail()"
   ]
  },
  {
   "cell_type": "code",
   "execution_count": 35,
   "metadata": {},
   "outputs": [
    {
     "data": {
      "text/plain": [
       "(5020, 2)"
      ]
     },
     "execution_count": 35,
     "metadata": {},
     "output_type": "execute_result"
    }
   ],
   "source": [
    "df.shape\n"
   ]
  },
  {
   "cell_type": "code",
   "execution_count": 36,
   "metadata": {},
   "outputs": [],
   "source": [
    "# Get the size of each image\n",
    "\n",
    "def get_size(path):\n",
    "    img = cv2.imread(path)\n",
    "    return img.shape[0] # Returns the height (number of rows) of the image\n",
    "\n",
    "\n"
   ]
  },
  {
   "cell_type": "code",
   "execution_count": 37,
   "metadata": {},
   "outputs": [],
   "source": [
    "df['dimension'] = df['file_path'].apply(get_size)# Stores the size of the image in the data frame as dimension\n"
   ]
  },
  {
   "cell_type": "code",
   "execution_count": 38,
   "metadata": {},
   "outputs": [
    {
     "data": {
      "text/html": [
       "<div>\n",
       "<style scoped>\n",
       "    .dataframe tbody tr th:only-of-type {\n",
       "        vertical-align: middle;\n",
       "    }\n",
       "\n",
       "    .dataframe tbody tr th {\n",
       "        vertical-align: top;\n",
       "    }\n",
       "\n",
       "    .dataframe thead th {\n",
       "        text-align: right;\n",
       "    }\n",
       "</style>\n",
       "<table border=\"1\" class=\"dataframe\">\n",
       "  <thead>\n",
       "    <tr style=\"text-align: right;\">\n",
       "      <th></th>\n",
       "      <th>file_path</th>\n",
       "      <th>gender</th>\n",
       "      <th>dimension</th>\n",
       "    </tr>\n",
       "  </thead>\n",
       "  <tbody>\n",
       "    <tr>\n",
       "      <th>0</th>\n",
       "      <td>./croped_data/female\\female0.jpg</td>\n",
       "      <td>female</td>\n",
       "      <td>273</td>\n",
       "    </tr>\n",
       "    <tr>\n",
       "      <th>1</th>\n",
       "      <td>./croped_data/female\\female1.jpg</td>\n",
       "      <td>female</td>\n",
       "      <td>182</td>\n",
       "    </tr>\n",
       "    <tr>\n",
       "      <th>2</th>\n",
       "      <td>./croped_data/female\\female100.jpg</td>\n",
       "      <td>female</td>\n",
       "      <td>122</td>\n",
       "    </tr>\n",
       "    <tr>\n",
       "      <th>3</th>\n",
       "      <td>./croped_data/female\\female1002.jpg</td>\n",
       "      <td>female</td>\n",
       "      <td>122</td>\n",
       "    </tr>\n",
       "    <tr>\n",
       "      <th>4</th>\n",
       "      <td>./croped_data/female\\female1005.jpg</td>\n",
       "      <td>female</td>\n",
       "      <td>182</td>\n",
       "    </tr>\n",
       "  </tbody>\n",
       "</table>\n",
       "</div>"
      ],
      "text/plain": [
       "                             file_path  gender  dimension\n",
       "0     ./croped_data/female\\female0.jpg  female        273\n",
       "1     ./croped_data/female\\female1.jpg  female        182\n",
       "2   ./croped_data/female\\female100.jpg  female        122\n",
       "3  ./croped_data/female\\female1002.jpg  female        122\n",
       "4  ./croped_data/female\\female1005.jpg  female        182"
      ]
     },
     "execution_count": 38,
     "metadata": {},
     "output_type": "execute_result"
    }
   ],
   "source": [
    "df.head()"
   ]
  },
  {
   "cell_type": "markdown",
   "metadata": {},
   "source": [
    "### Exploratory data analysis"
   ]
  },
  {
   "cell_type": "code",
   "execution_count": 39,
   "metadata": {},
   "outputs": [
    {
     "data": {
      "image/png": "[encoded data removed]",
      "text/plain": [
       "<Figure size 1000x400 with 2 Axes>"
      ]
     },
     "metadata": {},
     "output_type": "display_data"
    }
   ],
   "source": [
    "import seaborn as sns\n",
    "import matplotlib.pyplot as plt\n",
    "\n",
    "# Calculate value counts\n",
    "gender_counts = df['gender'].value_counts()\n",
    "\n",
    "# Create a figure with subplots\n",
    "fig, axes = plt.subplots(1, 2, figsize=(10, 4))\n",
    "\n",
    "# Bar chart (subplot 1)\n",
    "sns.barplot(x=gender_counts.index, y=gender_counts.values, ax=axes[0])\n",
    "axes[0].set_title(\"Gender Distribution (Bar Chart)\")\n",
    "axes[0].set_xlabel(\"Gender\")\n",
    "axes[0].set_ylabel(\"Count\")\n",
    "\n",
    "# Pie chart (subplot 2)\n",
    "axes[1].pie(\n",
    "    gender_counts.values, \n",
    "    labels=gender_counts.index, \n",
    "    autopct='%1.1f%%', \n",
    "    startangle=90, \n",
    "    colors=['skyblue', 'pink']\n",
    ")\n",
    "axes[1].set_title(\"Gender Distribution (Pie Chart)\")\n",
    "\n",
    "# Adjust layout and display\n",
    "plt.tight_layout()\n",
    "plt.show()\n"
   ]
  },
  {
   "cell_type": "code",
   "execution_count": 40,
   "metadata": {},
   "outputs": [
    {
     "data": {
      "text/plain": [
       "<Axes: ylabel='dimension'>"
      ]
     },
     "execution_count": 40,
     "metadata": {},
     "output_type": "execute_result"
    },
    {
     "data": {
      "image/png": "[encoded data removed]",
      "text/plain": [
       "<Figure size 1000x800 with 2 Axes>"
      ]
     },
     "metadata": {},
     "output_type": "display_data"
    }
   ],
   "source": [
    "# Let's visualize the distribution of sizes of the images\n",
    "plt.figure(figsize=(10,8))\n",
    "plt.subplot(2,1,1)\n",
    "sns.histplot(df['dimension'],kde=True)\n",
    "plt.subplot(2,1,2)\n",
    "sns.boxplot(df['dimension'])"
   ]
  },
  {
   "cell_type": "code",
   "execution_count": 41,
   "metadata": {},
   "outputs": [
    {
     "data": {
      "text/plain": [
       "<seaborn.axisgrid.FacetGrid at 0x203a2306f40>"
      ]
     },
     "execution_count": 41,
     "metadata": {},
     "output_type": "execute_result"
    },
    {
     "data": {
      "image/png": "[encoded data removed]",
      "text/plain": [
       "<Figure size 511.111x500 with 1 Axes>"
      ]
     },
     "metadata": {},
     "output_type": "display_data"
    }
   ],
   "source": [
    "sns.catplot(data=df, x='gender', y='dimension',kind='box')"
   ]
  },
  {
   "cell_type": "markdown",
   "metadata": {},
   "source": [
    "### Conclusion\n"
   ]
  },
  {
   "cell_type": "markdown",
   "metadata": {},
   "source": [
    "1. We have allmost equal distribution of images in terms of gender\n",
    "2. most of the images are having a diamension more than 60\n",
    "3. Most of the female images are high diamension compared to male image\n",
    "\n",
    "**Consider the images with diamension more than 60 less than 60 are outliers**\n",
    "\n",
    "\n",
    "**Resize all the images into 100 x 100**\n"
   ]
  },
  {
   "cell_type": "code",
   "execution_count": 43,
   "metadata": {},
   "outputs": [],
   "source": [
    "# Let's filter the images with diamension >=60\n",
    "df_filter = df.query('dimension >60')"
   ]
  },
  {
   "cell_type": "code",
   "execution_count": 44,
   "metadata": {},
   "outputs": [
    {
     "data": {
      "text/plain": [
       "(4553, 3)"
      ]
     },
     "execution_count": 44,
     "metadata": {},
     "output_type": "execute_result"
    }
   ],
   "source": [
    "df_filter.shape"
   ]
  },
  {
   "cell_type": "code",
   "execution_count": 45,
   "metadata": {},
   "outputs": [
    {
     "data": {
      "text/plain": [
       "gender\n",
       "female    0.543817\n",
       "male      0.456183\n",
       "Name: proportion, dtype: float64"
      ]
     },
     "execution_count": 45,
     "metadata": {},
     "output_type": "execute_result"
    }
   ],
   "source": [
    "df_filter['gender'].value_counts(normalize=True)"
   ]
  },
  {
   "cell_type": "markdown",
   "metadata": {},
   "source": [
    "### Stuructre the images to 100 x 100 size"
   ]
  },
  {
   "cell_type": "code",
   "execution_count": 92,
   "metadata": {},
   "outputs": [],
   "source": [
    "def restructuring_image(path):\n",
    "    try:\n",
    "        # Read the image\n",
    "        img = cv2.imread(path)  # BGR\n",
    "        if img is None:\n",
    "            raise FileNotFoundError(f\"Image not found or invalid at path: {path}\")\n",
    "        \n",
    "        # Convert into gray scale image\n",
    "        gray_scale = cv2.cvtColor(img, cv2.COLOR_BGR2GRAY)\n",
    "        \n",
    "        # Resize into 100 x 100 array\n",
    "        size = gray_scale.shape[0]\n",
    "        \n",
    "        if size >= 100:\n",
    "            # Use cv2.INTER_AREA to shrink the image\n",
    "            gray_scale_resize = cv2.resize(gray_scale, (100,100), interpolation=cv2.INTER_AREA)\n",
    "        else:\n",
    "            # Use cv2.INTER_CUBIC to enlarge the image\n",
    "            gray_scale_resize = cv2.resize(gray_scale, (100,100), interpolation=cv2.INTER_CUBIC)\n",
    "        \n",
    "        # Flatten the image to 1 x 10000\n",
    "        flatten_image = gray_scale_resize.flatten()\n",
    "        return flatten_image\n",
    "\n",
    "    except:\n",
    "        \n",
    "        return None\n",
    "\n",
    "\n",
    "         \n"
   ]
  },
  {
   "cell_type": "code",
   "execution_count": 93,
   "metadata": {},
   "outputs": [],
   "source": [
    "df_filter.loc[:, 'data'] = df_filter['file_path'].apply(restructuring_image)\n",
    " # This will convert all images into 100 x 100 size and flatten the image"
   ]
  },
  {
   "cell_type": "code",
   "execution_count": 89,
   "metadata": {},
   "outputs": [],
   "source": [
    "df_filter.drop(columns=['data'],  inplace=True)\n"
   ]
  },
  {
   "cell_type": "code",
   "execution_count": 94,
   "metadata": {},
   "outputs": [
    {
     "data": {
      "text/html": [
       "<div>\n",
       "<style scoped>\n",
       "    .dataframe tbody tr th:only-of-type {\n",
       "        vertical-align: middle;\n",
       "    }\n",
       "\n",
       "    .dataframe tbody tr th {\n",
       "        vertical-align: top;\n",
       "    }\n",
       "\n",
       "    .dataframe thead th {\n",
       "        text-align: right;\n",
       "    }\n",
       "</style>\n",
       "<table border=\"1\" class=\"dataframe\">\n",
       "  <thead>\n",
       "    <tr style=\"text-align: right;\">\n",
       "      <th></th>\n",
       "      <th>file_path</th>\n",
       "      <th>gender</th>\n",
       "      <th>dimension</th>\n",
       "      <th>data</th>\n",
       "    </tr>\n",
       "  </thead>\n",
       "  <tbody>\n",
       "    <tr>\n",
       "      <th>0</th>\n",
       "      <td>./croped_data/female\\female0.jpg</td>\n",
       "      <td>female</td>\n",
       "      <td>273</td>\n",
       "      <td>[185, 182, 183, 185, 175, 180, 188, 183, 211, ...</td>\n",
       "    </tr>\n",
       "    <tr>\n",
       "      <th>1</th>\n",
       "      <td>./croped_data/female\\female1.jpg</td>\n",
       "      <td>female</td>\n",
       "      <td>182</td>\n",
       "      <td>[33, 24, 31, 29, 28, 30, 29, 33, 35, 32, 47, 8...</td>\n",
       "    </tr>\n",
       "    <tr>\n",
       "      <th>2</th>\n",
       "      <td>./croped_data/female\\female100.jpg</td>\n",
       "      <td>female</td>\n",
       "      <td>122</td>\n",
       "      <td>[50, 49, 35, 34, 42, 40, 36, 40, 68, 60, 46, 4...</td>\n",
       "    </tr>\n",
       "    <tr>\n",
       "      <th>3</th>\n",
       "      <td>./croped_data/female\\female1002.jpg</td>\n",
       "      <td>female</td>\n",
       "      <td>122</td>\n",
       "      <td>[130, 119, 117, 98, 87, 92, 92, 110, 154, 161,...</td>\n",
       "    </tr>\n",
       "    <tr>\n",
       "      <th>4</th>\n",
       "      <td>./croped_data/female\\female1005.jpg</td>\n",
       "      <td>female</td>\n",
       "      <td>182</td>\n",
       "      <td>[234, 234, 233, 229, 231, 204, 126, 106, 81, 5...</td>\n",
       "    </tr>\n",
       "  </tbody>\n",
       "</table>\n",
       "</div>"
      ],
      "text/plain": [
       "                             file_path  gender  dimension  \\\n",
       "0     ./croped_data/female\\female0.jpg  female        273   \n",
       "1     ./croped_data/female\\female1.jpg  female        182   \n",
       "2   ./croped_data/female\\female100.jpg  female        122   \n",
       "3  ./croped_data/female\\female1002.jpg  female        122   \n",
       "4  ./croped_data/female\\female1005.jpg  female        182   \n",
       "\n",
       "                                                data  \n",
       "0  [185, 182, 183, 185, 175, 180, 188, 183, 211, ...  \n",
       "1  [33, 24, 31, 29, 28, 30, 29, 33, 35, 32, 47, 8...  \n",
       "2  [50, 49, 35, 34, 42, 40, 36, 40, 68, 60, 46, 4...  \n",
       "3  [130, 119, 117, 98, 87, 92, 92, 110, 154, 161,...  \n",
       "4  [234, 234, 233, 229, 231, 204, 126, 106, 81, 5...  "
      ]
     },
     "execution_count": 94,
     "metadata": {},
     "output_type": "execute_result"
    }
   ],
   "source": [
    "df_filter.head()"
   ]
  },
  {
   "cell_type": "code",
   "execution_count": 95,
   "metadata": {},
   "outputs": [],
   "source": [
    "data = df_filter['data'].apply(pd.Series)\n"
   ]
  },
  {
   "cell_type": "code",
   "execution_count": 97,
   "metadata": {},
   "outputs": [],
   "source": [
    "data.columns = [f'pixel_{i}' for i in data.columns]"
   ]
  },
  {
   "cell_type": "code",
   "execution_count": 98,
   "metadata": {},
   "outputs": [
    {
     "data": {
      "text/html": [
       "<div>\n",
       "<style scoped>\n",
       "    .dataframe tbody tr th:only-of-type {\n",
       "        vertical-align: middle;\n",
       "    }\n",
       "\n",
       "    .dataframe tbody tr th {\n",
       "        vertical-align: top;\n",
       "    }\n",
       "\n",
       "    .dataframe thead th {\n",
       "        text-align: right;\n",
       "    }\n",
       "</style>\n",
       "<table border=\"1\" class=\"dataframe\">\n",
       "  <thead>\n",
       "    <tr style=\"text-align: right;\">\n",
       "      <th></th>\n",
       "      <th>pixel_0</th>\n",
       "      <th>pixel_1</th>\n",
       "      <th>pixel_2</th>\n",
       "      <th>pixel_3</th>\n",
       "      <th>pixel_4</th>\n",
       "      <th>pixel_5</th>\n",
       "      <th>pixel_6</th>\n",
       "      <th>pixel_7</th>\n",
       "      <th>pixel_8</th>\n",
       "      <th>pixel_9</th>\n",
       "      <th>...</th>\n",
       "      <th>pixel_9990</th>\n",
       "      <th>pixel_9991</th>\n",
       "      <th>pixel_9992</th>\n",
       "      <th>pixel_9993</th>\n",
       "      <th>pixel_9994</th>\n",
       "      <th>pixel_9995</th>\n",
       "      <th>pixel_9996</th>\n",
       "      <th>pixel_9997</th>\n",
       "      <th>pixel_9998</th>\n",
       "      <th>pixel_9999</th>\n",
       "    </tr>\n",
       "  </thead>\n",
       "  <tbody>\n",
       "    <tr>\n",
       "      <th>0</th>\n",
       "      <td>185</td>\n",
       "      <td>182</td>\n",
       "      <td>183</td>\n",
       "      <td>185</td>\n",
       "      <td>175</td>\n",
       "      <td>180</td>\n",
       "      <td>188</td>\n",
       "      <td>183</td>\n",
       "      <td>211</td>\n",
       "      <td>215</td>\n",
       "      <td>...</td>\n",
       "      <td>109</td>\n",
       "      <td>111</td>\n",
       "      <td>115</td>\n",
       "      <td>117</td>\n",
       "      <td>121</td>\n",
       "      <td>116</td>\n",
       "      <td>118</td>\n",
       "      <td>118</td>\n",
       "      <td>117</td>\n",
       "      <td>111</td>\n",
       "    </tr>\n",
       "    <tr>\n",
       "      <th>1</th>\n",
       "      <td>33</td>\n",
       "      <td>24</td>\n",
       "      <td>31</td>\n",
       "      <td>29</td>\n",
       "      <td>28</td>\n",
       "      <td>30</td>\n",
       "      <td>29</td>\n",
       "      <td>33</td>\n",
       "      <td>35</td>\n",
       "      <td>32</td>\n",
       "      <td>...</td>\n",
       "      <td>56</td>\n",
       "      <td>47</td>\n",
       "      <td>30</td>\n",
       "      <td>35</td>\n",
       "      <td>23</td>\n",
       "      <td>27</td>\n",
       "      <td>27</td>\n",
       "      <td>36</td>\n",
       "      <td>53</td>\n",
       "      <td>18</td>\n",
       "    </tr>\n",
       "    <tr>\n",
       "      <th>2</th>\n",
       "      <td>50</td>\n",
       "      <td>49</td>\n",
       "      <td>35</td>\n",
       "      <td>34</td>\n",
       "      <td>42</td>\n",
       "      <td>40</td>\n",
       "      <td>36</td>\n",
       "      <td>40</td>\n",
       "      <td>68</td>\n",
       "      <td>60</td>\n",
       "      <td>...</td>\n",
       "      <td>208</td>\n",
       "      <td>227</td>\n",
       "      <td>228</td>\n",
       "      <td>235</td>\n",
       "      <td>237</td>\n",
       "      <td>231</td>\n",
       "      <td>222</td>\n",
       "      <td>215</td>\n",
       "      <td>212</td>\n",
       "      <td>210</td>\n",
       "    </tr>\n",
       "    <tr>\n",
       "      <th>3</th>\n",
       "      <td>130</td>\n",
       "      <td>119</td>\n",
       "      <td>117</td>\n",
       "      <td>98</td>\n",
       "      <td>87</td>\n",
       "      <td>92</td>\n",
       "      <td>92</td>\n",
       "      <td>110</td>\n",
       "      <td>154</td>\n",
       "      <td>161</td>\n",
       "      <td>...</td>\n",
       "      <td>153</td>\n",
       "      <td>104</td>\n",
       "      <td>62</td>\n",
       "      <td>63</td>\n",
       "      <td>66</td>\n",
       "      <td>80</td>\n",
       "      <td>90</td>\n",
       "      <td>100</td>\n",
       "      <td>107</td>\n",
       "      <td>112</td>\n",
       "    </tr>\n",
       "    <tr>\n",
       "      <th>4</th>\n",
       "      <td>234</td>\n",
       "      <td>234</td>\n",
       "      <td>233</td>\n",
       "      <td>229</td>\n",
       "      <td>231</td>\n",
       "      <td>204</td>\n",
       "      <td>126</td>\n",
       "      <td>106</td>\n",
       "      <td>81</td>\n",
       "      <td>56</td>\n",
       "      <td>...</td>\n",
       "      <td>242</td>\n",
       "      <td>242</td>\n",
       "      <td>237</td>\n",
       "      <td>237</td>\n",
       "      <td>239</td>\n",
       "      <td>237</td>\n",
       "      <td>237</td>\n",
       "      <td>240</td>\n",
       "      <td>239</td>\n",
       "      <td>240</td>\n",
       "    </tr>\n",
       "  </tbody>\n",
       "</table>\n",
       "<p>5 rows × 10000 columns</p>\n",
       "</div>"
      ],
      "text/plain": [
       "   pixel_0  pixel_1  pixel_2  pixel_3  pixel_4  pixel_5  pixel_6  pixel_7  \\\n",
       "0      185      182      183      185      175      180      188      183   \n",
       "1       33       24       31       29       28       30       29       33   \n",
       "2       50       49       35       34       42       40       36       40   \n",
       "3      130      119      117       98       87       92       92      110   \n",
       "4      234      234      233      229      231      204      126      106   \n",
       "\n",
       "   pixel_8  pixel_9  ...  pixel_9990  pixel_9991  pixel_9992  pixel_9993  \\\n",
       "0      211      215  ...         109         111         115         117   \n",
       "1       35       32  ...          56          47          30          35   \n",
       "2       68       60  ...         208         227         228         235   \n",
       "3      154      161  ...         153         104          62          63   \n",
       "4       81       56  ...         242         242         237         237   \n",
       "\n",
       "   pixel_9994  pixel_9995  pixel_9996  pixel_9997  pixel_9998  pixel_9999  \n",
       "0         121         116         118         118         117         111  \n",
       "1          23          27          27          36          53          18  \n",
       "2         237         231         222         215         212         210  \n",
       "3          66          80          90         100         107         112  \n",
       "4         239         237         237         240         239         240  \n",
       "\n",
       "[5 rows x 10000 columns]"
      ]
     },
     "execution_count": 98,
     "metadata": {},
     "output_type": "execute_result"
    }
   ],
   "source": [
    "data.head()"
   ]
  },
  {
   "cell_type": "markdown",
   "metadata": {},
   "source": []
  },
  {
   "cell_type": "markdown",
   "metadata": {},
   "source": [
    "### Data Normalization\n"
   ]
  },
  {
   "cell_type": "code",
   "execution_count": 99,
   "metadata": {},
   "outputs": [],
   "source": [
    "data = data/255.0"
   ]
  },
  {
   "cell_type": "code",
   "execution_count": 101,
   "metadata": {},
   "outputs": [
    {
     "data": {
      "text/html": [
       "<div>\n",
       "<style scoped>\n",
       "    .dataframe tbody tr th:only-of-type {\n",
       "        vertical-align: middle;\n",
       "    }\n",
       "\n",
       "    .dataframe tbody tr th {\n",
       "        vertical-align: top;\n",
       "    }\n",
       "\n",
       "    .dataframe thead th {\n",
       "        text-align: right;\n",
       "    }\n",
       "</style>\n",
       "<table border=\"1\" class=\"dataframe\">\n",
       "  <thead>\n",
       "    <tr style=\"text-align: right;\">\n",
       "      <th></th>\n",
       "      <th>pixel_0</th>\n",
       "      <th>pixel_1</th>\n",
       "      <th>pixel_2</th>\n",
       "      <th>pixel_3</th>\n",
       "      <th>pixel_4</th>\n",
       "      <th>pixel_5</th>\n",
       "      <th>pixel_6</th>\n",
       "      <th>pixel_7</th>\n",
       "      <th>pixel_8</th>\n",
       "      <th>pixel_9</th>\n",
       "      <th>...</th>\n",
       "      <th>pixel_9990</th>\n",
       "      <th>pixel_9991</th>\n",
       "      <th>pixel_9992</th>\n",
       "      <th>pixel_9993</th>\n",
       "      <th>pixel_9994</th>\n",
       "      <th>pixel_9995</th>\n",
       "      <th>pixel_9996</th>\n",
       "      <th>pixel_9997</th>\n",
       "      <th>pixel_9998</th>\n",
       "      <th>pixel_9999</th>\n",
       "    </tr>\n",
       "  </thead>\n",
       "  <tbody>\n",
       "    <tr>\n",
       "      <th>0</th>\n",
       "      <td>0.725490</td>\n",
       "      <td>0.713725</td>\n",
       "      <td>0.717647</td>\n",
       "      <td>0.725490</td>\n",
       "      <td>0.686275</td>\n",
       "      <td>0.705882</td>\n",
       "      <td>0.737255</td>\n",
       "      <td>0.717647</td>\n",
       "      <td>0.827451</td>\n",
       "      <td>0.843137</td>\n",
       "      <td>...</td>\n",
       "      <td>0.427451</td>\n",
       "      <td>0.435294</td>\n",
       "      <td>0.450980</td>\n",
       "      <td>0.458824</td>\n",
       "      <td>0.474510</td>\n",
       "      <td>0.454902</td>\n",
       "      <td>0.462745</td>\n",
       "      <td>0.462745</td>\n",
       "      <td>0.458824</td>\n",
       "      <td>0.435294</td>\n",
       "    </tr>\n",
       "    <tr>\n",
       "      <th>1</th>\n",
       "      <td>0.129412</td>\n",
       "      <td>0.094118</td>\n",
       "      <td>0.121569</td>\n",
       "      <td>0.113725</td>\n",
       "      <td>0.109804</td>\n",
       "      <td>0.117647</td>\n",
       "      <td>0.113725</td>\n",
       "      <td>0.129412</td>\n",
       "      <td>0.137255</td>\n",
       "      <td>0.125490</td>\n",
       "      <td>...</td>\n",
       "      <td>0.219608</td>\n",
       "      <td>0.184314</td>\n",
       "      <td>0.117647</td>\n",
       "      <td>0.137255</td>\n",
       "      <td>0.090196</td>\n",
       "      <td>0.105882</td>\n",
       "      <td>0.105882</td>\n",
       "      <td>0.141176</td>\n",
       "      <td>0.207843</td>\n",
       "      <td>0.070588</td>\n",
       "    </tr>\n",
       "    <tr>\n",
       "      <th>2</th>\n",
       "      <td>0.196078</td>\n",
       "      <td>0.192157</td>\n",
       "      <td>0.137255</td>\n",
       "      <td>0.133333</td>\n",
       "      <td>0.164706</td>\n",
       "      <td>0.156863</td>\n",
       "      <td>0.141176</td>\n",
       "      <td>0.156863</td>\n",
       "      <td>0.266667</td>\n",
       "      <td>0.235294</td>\n",
       "      <td>...</td>\n",
       "      <td>0.815686</td>\n",
       "      <td>0.890196</td>\n",
       "      <td>0.894118</td>\n",
       "      <td>0.921569</td>\n",
       "      <td>0.929412</td>\n",
       "      <td>0.905882</td>\n",
       "      <td>0.870588</td>\n",
       "      <td>0.843137</td>\n",
       "      <td>0.831373</td>\n",
       "      <td>0.823529</td>\n",
       "    </tr>\n",
       "    <tr>\n",
       "      <th>3</th>\n",
       "      <td>0.509804</td>\n",
       "      <td>0.466667</td>\n",
       "      <td>0.458824</td>\n",
       "      <td>0.384314</td>\n",
       "      <td>0.341176</td>\n",
       "      <td>0.360784</td>\n",
       "      <td>0.360784</td>\n",
       "      <td>0.431373</td>\n",
       "      <td>0.603922</td>\n",
       "      <td>0.631373</td>\n",
       "      <td>...</td>\n",
       "      <td>0.600000</td>\n",
       "      <td>0.407843</td>\n",
       "      <td>0.243137</td>\n",
       "      <td>0.247059</td>\n",
       "      <td>0.258824</td>\n",
       "      <td>0.313725</td>\n",
       "      <td>0.352941</td>\n",
       "      <td>0.392157</td>\n",
       "      <td>0.419608</td>\n",
       "      <td>0.439216</td>\n",
       "    </tr>\n",
       "    <tr>\n",
       "      <th>4</th>\n",
       "      <td>0.917647</td>\n",
       "      <td>0.917647</td>\n",
       "      <td>0.913725</td>\n",
       "      <td>0.898039</td>\n",
       "      <td>0.905882</td>\n",
       "      <td>0.800000</td>\n",
       "      <td>0.494118</td>\n",
       "      <td>0.415686</td>\n",
       "      <td>0.317647</td>\n",
       "      <td>0.219608</td>\n",
       "      <td>...</td>\n",
       "      <td>0.949020</td>\n",
       "      <td>0.949020</td>\n",
       "      <td>0.929412</td>\n",
       "      <td>0.929412</td>\n",
       "      <td>0.937255</td>\n",
       "      <td>0.929412</td>\n",
       "      <td>0.929412</td>\n",
       "      <td>0.941176</td>\n",
       "      <td>0.937255</td>\n",
       "      <td>0.941176</td>\n",
       "    </tr>\n",
       "  </tbody>\n",
       "</table>\n",
       "<p>5 rows × 10000 columns</p>\n",
       "</div>"
      ],
      "text/plain": [
       "    pixel_0   pixel_1   pixel_2   pixel_3   pixel_4   pixel_5   pixel_6  \\\n",
       "0  0.725490  0.713725  0.717647  0.725490  0.686275  0.705882  0.737255   \n",
       "1  0.129412  0.094118  0.121569  0.113725  0.109804  0.117647  0.113725   \n",
       "2  0.196078  0.192157  0.137255  0.133333  0.164706  0.156863  0.141176   \n",
       "3  0.509804  0.466667  0.458824  0.384314  0.341176  0.360784  0.360784   \n",
       "4  0.917647  0.917647  0.913725  0.898039  0.905882  0.800000  0.494118   \n",
       "\n",
       "    pixel_7   pixel_8   pixel_9  ...  pixel_9990  pixel_9991  pixel_9992  \\\n",
       "0  0.717647  0.827451  0.843137  ...    0.427451    0.435294    0.450980   \n",
       "1  0.129412  0.137255  0.125490  ...    0.219608    0.184314    0.117647   \n",
       "2  0.156863  0.266667  0.235294  ...    0.815686    0.890196    0.894118   \n",
       "3  0.431373  0.603922  0.631373  ...    0.600000    0.407843    0.243137   \n",
       "4  0.415686  0.317647  0.219608  ...    0.949020    0.949020    0.929412   \n",
       "\n",
       "   pixel_9993  pixel_9994  pixel_9995  pixel_9996  pixel_9997  pixel_9998  \\\n",
       "0    0.458824    0.474510    0.454902    0.462745    0.462745    0.458824   \n",
       "1    0.137255    0.090196    0.105882    0.105882    0.141176    0.207843   \n",
       "2    0.921569    0.929412    0.905882    0.870588    0.843137    0.831373   \n",
       "3    0.247059    0.258824    0.313725    0.352941    0.392157    0.419608   \n",
       "4    0.929412    0.937255    0.929412    0.929412    0.941176    0.937255   \n",
       "\n",
       "   pixel_9999  \n",
       "0    0.435294  \n",
       "1    0.070588  \n",
       "2    0.823529  \n",
       "3    0.439216  \n",
       "4    0.941176  \n",
       "\n",
       "[5 rows x 10000 columns]"
      ]
     },
     "execution_count": 101,
     "metadata": {},
     "output_type": "execute_result"
    }
   ],
   "source": [
    "data.head()"
   ]
  },
  {
   "cell_type": "code",
   "execution_count": 102,
   "metadata": {},
   "outputs": [],
   "source": [
    "data['gender'] = df_filter['gender']"
   ]
  },
  {
   "cell_type": "code",
   "execution_count": 103,
   "metadata": {},
   "outputs": [
    {
     "data": {
      "text/html": [
       "<div>\n",
       "<style scoped>\n",
       "    .dataframe tbody tr th:only-of-type {\n",
       "        vertical-align: middle;\n",
       "    }\n",
       "\n",
       "    .dataframe tbody tr th {\n",
       "        vertical-align: top;\n",
       "    }\n",
       "\n",
       "    .dataframe thead th {\n",
       "        text-align: right;\n",
       "    }\n",
       "</style>\n",
       "<table border=\"1\" class=\"dataframe\">\n",
       "  <thead>\n",
       "    <tr style=\"text-align: right;\">\n",
       "      <th></th>\n",
       "      <th>pixel_0</th>\n",
       "      <th>pixel_1</th>\n",
       "      <th>pixel_2</th>\n",
       "      <th>pixel_3</th>\n",
       "      <th>pixel_4</th>\n",
       "      <th>pixel_5</th>\n",
       "      <th>pixel_6</th>\n",
       "      <th>pixel_7</th>\n",
       "      <th>pixel_8</th>\n",
       "      <th>pixel_9</th>\n",
       "      <th>...</th>\n",
       "      <th>pixel_9991</th>\n",
       "      <th>pixel_9992</th>\n",
       "      <th>pixel_9993</th>\n",
       "      <th>pixel_9994</th>\n",
       "      <th>pixel_9995</th>\n",
       "      <th>pixel_9996</th>\n",
       "      <th>pixel_9997</th>\n",
       "      <th>pixel_9998</th>\n",
       "      <th>pixel_9999</th>\n",
       "      <th>gender</th>\n",
       "    </tr>\n",
       "  </thead>\n",
       "  <tbody>\n",
       "    <tr>\n",
       "      <th>0</th>\n",
       "      <td>0.725490</td>\n",
       "      <td>0.713725</td>\n",
       "      <td>0.717647</td>\n",
       "      <td>0.725490</td>\n",
       "      <td>0.686275</td>\n",
       "      <td>0.705882</td>\n",
       "      <td>0.737255</td>\n",
       "      <td>0.717647</td>\n",
       "      <td>0.827451</td>\n",
       "      <td>0.843137</td>\n",
       "      <td>...</td>\n",
       "      <td>0.435294</td>\n",
       "      <td>0.450980</td>\n",
       "      <td>0.458824</td>\n",
       "      <td>0.474510</td>\n",
       "      <td>0.454902</td>\n",
       "      <td>0.462745</td>\n",
       "      <td>0.462745</td>\n",
       "      <td>0.458824</td>\n",
       "      <td>0.435294</td>\n",
       "      <td>female</td>\n",
       "    </tr>\n",
       "    <tr>\n",
       "      <th>1</th>\n",
       "      <td>0.129412</td>\n",
       "      <td>0.094118</td>\n",
       "      <td>0.121569</td>\n",
       "      <td>0.113725</td>\n",
       "      <td>0.109804</td>\n",
       "      <td>0.117647</td>\n",
       "      <td>0.113725</td>\n",
       "      <td>0.129412</td>\n",
       "      <td>0.137255</td>\n",
       "      <td>0.125490</td>\n",
       "      <td>...</td>\n",
       "      <td>0.184314</td>\n",
       "      <td>0.117647</td>\n",
       "      <td>0.137255</td>\n",
       "      <td>0.090196</td>\n",
       "      <td>0.105882</td>\n",
       "      <td>0.105882</td>\n",
       "      <td>0.141176</td>\n",
       "      <td>0.207843</td>\n",
       "      <td>0.070588</td>\n",
       "      <td>female</td>\n",
       "    </tr>\n",
       "    <tr>\n",
       "      <th>2</th>\n",
       "      <td>0.196078</td>\n",
       "      <td>0.192157</td>\n",
       "      <td>0.137255</td>\n",
       "      <td>0.133333</td>\n",
       "      <td>0.164706</td>\n",
       "      <td>0.156863</td>\n",
       "      <td>0.141176</td>\n",
       "      <td>0.156863</td>\n",
       "      <td>0.266667</td>\n",
       "      <td>0.235294</td>\n",
       "      <td>...</td>\n",
       "      <td>0.890196</td>\n",
       "      <td>0.894118</td>\n",
       "      <td>0.921569</td>\n",
       "      <td>0.929412</td>\n",
       "      <td>0.905882</td>\n",
       "      <td>0.870588</td>\n",
       "      <td>0.843137</td>\n",
       "      <td>0.831373</td>\n",
       "      <td>0.823529</td>\n",
       "      <td>female</td>\n",
       "    </tr>\n",
       "    <tr>\n",
       "      <th>3</th>\n",
       "      <td>0.509804</td>\n",
       "      <td>0.466667</td>\n",
       "      <td>0.458824</td>\n",
       "      <td>0.384314</td>\n",
       "      <td>0.341176</td>\n",
       "      <td>0.360784</td>\n",
       "      <td>0.360784</td>\n",
       "      <td>0.431373</td>\n",
       "      <td>0.603922</td>\n",
       "      <td>0.631373</td>\n",
       "      <td>...</td>\n",
       "      <td>0.407843</td>\n",
       "      <td>0.243137</td>\n",
       "      <td>0.247059</td>\n",
       "      <td>0.258824</td>\n",
       "      <td>0.313725</td>\n",
       "      <td>0.352941</td>\n",
       "      <td>0.392157</td>\n",
       "      <td>0.419608</td>\n",
       "      <td>0.439216</td>\n",
       "      <td>female</td>\n",
       "    </tr>\n",
       "    <tr>\n",
       "      <th>4</th>\n",
       "      <td>0.917647</td>\n",
       "      <td>0.917647</td>\n",
       "      <td>0.913725</td>\n",
       "      <td>0.898039</td>\n",
       "      <td>0.905882</td>\n",
       "      <td>0.800000</td>\n",
       "      <td>0.494118</td>\n",
       "      <td>0.415686</td>\n",
       "      <td>0.317647</td>\n",
       "      <td>0.219608</td>\n",
       "      <td>...</td>\n",
       "      <td>0.949020</td>\n",
       "      <td>0.929412</td>\n",
       "      <td>0.929412</td>\n",
       "      <td>0.937255</td>\n",
       "      <td>0.929412</td>\n",
       "      <td>0.929412</td>\n",
       "      <td>0.941176</td>\n",
       "      <td>0.937255</td>\n",
       "      <td>0.941176</td>\n",
       "      <td>female</td>\n",
       "    </tr>\n",
       "  </tbody>\n",
       "</table>\n",
       "<p>5 rows × 10001 columns</p>\n",
       "</div>"
      ],
      "text/plain": [
       "    pixel_0   pixel_1   pixel_2   pixel_3   pixel_4   pixel_5   pixel_6  \\\n",
       "0  0.725490  0.713725  0.717647  0.725490  0.686275  0.705882  0.737255   \n",
       "1  0.129412  0.094118  0.121569  0.113725  0.109804  0.117647  0.113725   \n",
       "2  0.196078  0.192157  0.137255  0.133333  0.164706  0.156863  0.141176   \n",
       "3  0.509804  0.466667  0.458824  0.384314  0.341176  0.360784  0.360784   \n",
       "4  0.917647  0.917647  0.913725  0.898039  0.905882  0.800000  0.494118   \n",
       "\n",
       "    pixel_7   pixel_8   pixel_9  ...  pixel_9991  pixel_9992  pixel_9993  \\\n",
       "0  0.717647  0.827451  0.843137  ...    0.435294    0.450980    0.458824   \n",
       "1  0.129412  0.137255  0.125490  ...    0.184314    0.117647    0.137255   \n",
       "2  0.156863  0.266667  0.235294  ...    0.890196    0.894118    0.921569   \n",
       "3  0.431373  0.603922  0.631373  ...    0.407843    0.243137    0.247059   \n",
       "4  0.415686  0.317647  0.219608  ...    0.949020    0.929412    0.929412   \n",
       "\n",
       "   pixel_9994  pixel_9995  pixel_9996  pixel_9997  pixel_9998  pixel_9999  \\\n",
       "0    0.474510    0.454902    0.462745    0.462745    0.458824    0.435294   \n",
       "1    0.090196    0.105882    0.105882    0.141176    0.207843    0.070588   \n",
       "2    0.929412    0.905882    0.870588    0.843137    0.831373    0.823529   \n",
       "3    0.258824    0.313725    0.352941    0.392157    0.419608    0.439216   \n",
       "4    0.937255    0.929412    0.929412    0.941176    0.937255    0.941176   \n",
       "\n",
       "   gender  \n",
       "0  female  \n",
       "1  female  \n",
       "2  female  \n",
       "3  female  \n",
       "4  female  \n",
       "\n",
       "[5 rows x 10001 columns]"
      ]
     },
     "execution_count": 103,
     "metadata": {},
     "output_type": "execute_result"
    }
   ],
   "source": [
    "data.head()"
   ]
  },
  {
   "cell_type": "code",
   "execution_count": 105,
   "metadata": {},
   "outputs": [
    {
     "data": {
      "text/plain": [
       "0"
      ]
     },
     "execution_count": 105,
     "metadata": {},
     "output_type": "execute_result"
    }
   ],
   "source": [
    "data.isnull().sum().sum()\n",
    "# There is no missing value"
   ]
  },
  {
   "cell_type": "code",
   "execution_count": 110,
   "metadata": {},
   "outputs": [],
   "source": [
    "# Save the data for future study as a pickle format\n",
    "pickle.dump(data,open('./data/data_images_100_100.pickle',mode='wb'))\n",
    "\n"
   ]
  },
  {
   "cell_type": "markdown",
   "metadata": {},
   "source": []
  }
 ],
 "metadata": {
  "kernelspec": {
   "display_name": "Python 3",
   "language": "python",
   "name": "python3"
  },
  "language_info": {
   "codemirror_mode": {
    "name": "ipython",
    "version": 3
   },
   "file_extension": ".py",
   "mimetype": "text/x-python",
   "name": "python",
   "nbconvert_exporter": "python",
   "pygments_lexer": "ipython3",
   "version": "3.8.20"
  }
 },
 "nbformat": 4,
 "nbformat_minor": 2
}
